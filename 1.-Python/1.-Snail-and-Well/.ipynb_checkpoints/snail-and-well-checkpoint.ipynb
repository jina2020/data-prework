{
 "cells": [
  {
   "cell_type": "markdown",
   "metadata": {},
   "source": [
    "<img src=\"https://bit.ly/2VnXWr2\" width=\"100\" align=\"left\">"
   ]
  },
  {
   "cell_type": "markdown",
   "metadata": {},
   "source": [
    "# The Snail and the Well\n",
    "\n",
    "A snail falls at the bottom of a 125 cm well. Each day the snail rises 30 cm. But at night, while sleeping, slides 20 cm because the walls are wet. How many days does it take for the snail to escape the well?\n",
    "\n",
    "**Hint**: The snail gets out of the well when it surpasses the 125cm of height.\n",
    "\n",
    "## Tools\n",
    "\n",
    "1. Loop: **while**\n",
    "2. Conditional statements: **if-else**\n",
    "3. Function: **print()**\n",
    "\n",
    "## Tasks\n",
    "\n",
    "#### 1. Assign the challenge data to variables with representative names: `well_height`, `daily_distance`, `nightly_distance` and `snail_position`."
   ]
  },
  {
   "cell_type": "code",
   "execution_count": 11,
   "metadata": {},
   "outputs": [],
   "source": [
    "well_height = 125\n",
    "daily_distance = 30\n",
    "nightly_distance = 20\n",
    "snail_position = 0"
   ]
  },
  {
   "cell_type": "markdown",
   "metadata": {},
   "source": [
    "#### 2. Create a variable `days` to keep count of the days that pass until the snail escapes the well. "
   ]
  },
  {
   "cell_type": "code",
   "execution_count": 12,
   "metadata": {},
   "outputs": [],
   "source": [
    "days = 0"
   ]
  },
  {
   "cell_type": "markdown",
   "metadata": {},
   "source": [
    "#### 3. Find the solution to the challenge using the variables defined above. "
   ]
  },
  {
   "cell_type": "code",
   "execution_count": 13,
   "metadata": {
    "scrolled": false
   },
   "outputs": [
    {
     "name": "stdout",
     "output_type": "stream",
     "text": [
      "Snail fell into a well\n",
      "Current position of the snail is : 10 and it passed 2 days in this well\n",
      "Current position of the snail is : 20 and it passed 3 days in this well\n",
      "Current position of the snail is : 30 and it passed 4 days in this well\n",
      "Current position of the snail is : 40 and it passed 5 days in this well\n",
      "Current position of the snail is : 50 and it passed 6 days in this well\n",
      "Current position of the snail is : 60 and it passed 7 days in this well\n",
      "Current position of the snail is : 70 and it passed 8 days in this well\n",
      "Current position of the snail is : 80 and it passed 9 days in this well\n",
      "Current position of the snail is : 90 and it passed 10 days in this well\n",
      "Current position of the snail is : 100 and it passed 11 days in this well\n",
      "Current position of the snail is : 110 and it passed 12 days in this well\n",
      "Current position of the snail is : 120 and it passed 13 days in this well\n",
      "Current position of the snail is : 130 and it passed 14 days in this well\n",
      "Snail escaped the well\n"
     ]
    }
   ],
   "source": [
    "print(\"Snail fell into a well\")\n",
    "while snail_position < well_height : \n",
    "    snail_position = snail_position + daily_distance - nightly_distance\n",
    "    days += 1\n",
    "    print(\"Current position of the snail is : %d and it passed %d days in this well\" % (snail_position, days))\n",
    "print(\"Snail escaped the well\")"
   ]
  },
  {
   "cell_type": "markdown",
   "metadata": {},
   "source": [
    "#### 4. Print the solution."
   ]
  },
  {
   "cell_type": "code",
   "execution_count": 14,
   "metadata": {},
   "outputs": [
    {
     "name": "stdout",
     "output_type": "stream",
     "text": [
      "Snail escaped the well 14 days later\n"
     ]
    }
   ],
   "source": [
    "print(\"Snail escaped the well %d days later\" % days)"
   ]
  },
  {
   "cell_type": "markdown",
   "metadata": {},
   "source": [
    "## Bonus\n",
    "The distance traveled by the snail each day is now defined by a list.\n",
    "```\n",
    "advance_cm = [30, 21, 33, 77, 44, 45, 23, 45, 12, 34, 55]\n",
    "```\n",
    "On the first day, the snail rises 30cm but during the night it slides 20cm. On the second day, the snail rises 21cm but during the night it slides 20cm, and so on. \n",
    "\n",
    "#### 1. How many days does it take for the snail to escape the well?\n",
    "Follow the same guidelines as in the previous challenge.\n",
    "\n",
    "**Hint**: Remember that the snail gets out of the well when it surpasses the 125cm of height."
   ]
  },
  {
   "cell_type": "code",
   "execution_count": 25,
   "metadata": {
    "scrolled": true
   },
   "outputs": [
    {
     "name": "stdout",
     "output_type": "stream",
     "text": [
      "Snail fell into a well\n",
      "Current position of the snail is : 10 and it passed 1 days in this well\n",
      "Current position of the snail is : 11 and it passed 2 days in this well\n",
      "Current position of the snail is : 24 and it passed 3 days in this well\n",
      "Current position of the snail is : 81 and it passed 4 days in this well\n",
      "Current position of the snail is : 105 and it passed 5 days in this well\n",
      "Current position of the snail is : 130 and it passed 6 days in this well\n",
      "Snail escaped the well 6 days later\n"
     ]
    }
   ],
   "source": [
    "well_height = 125\n",
    "days = 0\n",
    "nightly_distance = 20\n",
    "snail_position = 0\n",
    "advance_cm = [30, 21, 33, 77, 44, 45, 23, 45, 12, 34, 55]\n",
    "\n",
    "print(\"Snail fell into a well\")\n",
    "\n",
    "for daily_distance in advance_cm : \n",
    "    if snail_position < well_height : \n",
    "        snail_position = snail_position + daily_distance - nightly_distance\n",
    "        days += 1\n",
    "        print(\"Current position of the snail is : %d and it passed %d days in this well\" % (snail_position, days))\n",
    "print(\"Snail escaped the well %d days later\" % days)"
   ]
  },
  {
   "cell_type": "markdown",
   "metadata": {},
   "source": [
    "#### 2. What is its maximum displacement in one day? And its minimum? Calculate the displacement using only the travel distance of the days used to get out of the well. \n",
    "**Hint**: Remember that displacement means the total distance risen taking into account that the snail slides at night.  "
   ]
  },
  {
   "cell_type": "code",
   "execution_count": 30,
   "metadata": {},
   "outputs": [
    {
     "name": "stdout",
     "output_type": "stream",
     "text": [
      "[10, 1, 13, 57, 24, 25]\n",
      "Snail's maximum displacement was 57 and minimum displacement was 1\n"
     ]
    }
   ],
   "source": [
    "displacement = []\n",
    "for daily_distance in advance_cm[:days] : \n",
    "    displacement.append(daily_distance - nightly_distance)\n",
    "print(displacement)\n",
    "print(\"Snail's maximum displacement was %d and minimum displacement was %d\" % (max(displacement), min(displacement)))"
   ]
  },
  {
   "cell_type": "markdown",
   "metadata": {},
   "source": [
    "#### 3. What is its average progress? Take into account the snail slides at night."
   ]
  },
  {
   "cell_type": "code",
   "execution_count": 32,
   "metadata": {},
   "outputs": [
    {
     "name": "stdout",
     "output_type": "stream",
     "text": [
      "Its average progress was 21.666666666666668\n"
     ]
    }
   ],
   "source": [
    "print(\"Its average progress was \", sum(displacement)/len(displacement))"
   ]
  },
  {
   "cell_type": "markdown",
   "metadata": {},
   "source": [
    "#### 4. What is the standard deviation of its displacement? Take into account the snail slides at night."
   ]
  },
  {
   "cell_type": "code",
   "execution_count": 35,
   "metadata": {},
   "outputs": [
    {
     "name": "stdout",
     "output_type": "stream",
     "text": [
      "The standard deviation of its displacement was  17.81073334319006\n"
     ]
    }
   ],
   "source": [
    "import numpy as np\n",
    "print(\"The standard deviation of its displacement was \", np.std(displacement))"
   ]
  },
  {
   "cell_type": "code",
   "execution_count": null,
   "metadata": {},
   "outputs": [],
   "source": []
  }
 ],
 "metadata": {
  "kernelspec": {
   "display_name": "Python 3",
   "language": "python",
   "name": "python3"
  },
  "language_info": {
   "codemirror_mode": {
    "name": "ipython",
    "version": 3
   },
   "file_extension": ".py",
   "mimetype": "text/x-python",
   "name": "python",
   "nbconvert_exporter": "python",
   "pygments_lexer": "ipython3",
   "version": "3.7.6"
  }
 },
 "nbformat": 4,
 "nbformat_minor": 2
}
