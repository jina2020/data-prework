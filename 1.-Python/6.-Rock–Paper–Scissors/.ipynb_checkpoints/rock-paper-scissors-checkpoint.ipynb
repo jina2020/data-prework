{
 "cells": [
  {
   "cell_type": "markdown",
   "metadata": {},
   "source": [
    "<img src=\"https://bit.ly/2VnXWr2\" width=\"100\" align=\"left\">"
   ]
  },
  {
   "cell_type": "markdown",
   "metadata": {},
   "source": [
    "# Rock, Paper & Scissors\n",
    "\n",
    "Let's play the famous game against our computer. You can check the rules [here](https://en.wikipedia.org/wiki/Rock%E2%80%93paper%E2%80%93scissors). \n",
    "\n",
    "## Task\n",
    "Create a program that imitates the playability of the well known game of rock, paper, scissors. Follow the guidelines provided.\n",
    "\n",
    "## Tools\n",
    "1. Loop: **for/while**\n",
    "2. Functions: **input(), print()...**\n",
    "3. Conditional statements: **if, elif, else**\n",
    "4. Definition of functions. Modular programming\n",
    "5. Import modules\n",
    "\n",
    "**To solve this challenge, the use of functions is recommended.**\n",
    "\n",
    "#### 1. Import the choice function of the random module."
   ]
  },
  {
   "cell_type": "code",
   "execution_count": 1,
   "metadata": {},
   "outputs": [],
   "source": [
    "import random"
   ]
  },
  {
   "cell_type": "markdown",
   "metadata": {},
   "source": [
    "#### 2. Create a list that includes the 3 possible gesture options of the game: 'rock', 'paper' or 'scissors'. Store the list in a variable called `gestures`."
   ]
  },
  {
   "cell_type": "code",
   "execution_count": 2,
   "metadata": {},
   "outputs": [],
   "source": [
    "gestures = [\"rock\", \"paper\", \"scissors\"]"
   ]
  },
  {
   "cell_type": "markdown",
   "metadata": {},
   "source": [
    "#### 3. Create a variable called `n_rounds` to store the maximum number of rounds to play in a game. \n",
    "Remember that the number of rounds must be odd: 1, 3, 5, ..."
   ]
  },
  {
   "cell_type": "code",
   "execution_count": 3,
   "metadata": {},
   "outputs": [],
   "source": [
    "n_rounds = 3"
   ]
  },
  {
   "cell_type": "markdown",
   "metadata": {},
   "source": [
    "#### 4. Create a variable called `rounds_to_win` to store the number of rounds that a player must win to win the game.\n",
    "**Hint**: the value stored in `rounds_to_win` depends on the value of `n_rounds`. "
   ]
  },
  {
   "cell_type": "code",
   "execution_count": 4,
   "metadata": {},
   "outputs": [],
   "source": [
    "rounds_to_win = round(n_rounds/2)"
   ]
  },
  {
   "cell_type": "markdown",
   "metadata": {},
   "source": [
    "#### 5. Create two variables to store the number of rounds that the computer and the player have won. Call these variables `cpu_score` and `player_score`."
   ]
  },
  {
   "cell_type": "code",
   "execution_count": 5,
   "metadata": {},
   "outputs": [],
   "source": [
    "cpu_score = 0\n",
    "player_score = 0"
   ]
  },
  {
   "cell_type": "markdown",
   "metadata": {},
   "source": [
    "#### 6. Define a function that randomly returns one of the 3 gesture options.\n",
    "You will use this function to simulate the gesture choice of the computer. "
   ]
  },
  {
   "cell_type": "code",
   "execution_count": 6,
   "metadata": {},
   "outputs": [],
   "source": [
    "def cpu_gesture():\n",
    "    return gestures[random.randint(0, 2)]"
   ]
  },
  {
   "cell_type": "markdown",
   "metadata": {},
   "source": [
    "#### 7. Define a function that asks the player which is the gesture he or she wants to show: 'rock', 'paper' or 'scissors'.\n",
    "The player should only be allowed to choose one of the 3 gesture options. If the player's choice is not rock, paper or scissors, keep asking until it is."
   ]
  },
  {
   "cell_type": "code",
   "execution_count": 7,
   "metadata": {},
   "outputs": [],
   "source": [
    "def player_gesture():\n",
    "    value = input(\"Which is the gesture you to show: 'rock', 'paper' or 'scissors'\\n\")\n",
    "    while value not in gestures:\n",
    "        value = input(\"You are not allowed to choose another value. \\nWhich is the gesture you to show: 'rock', 'paper' or 'scissors'\\n\")\n",
    "    return value"
   ]
  },
  {
   "cell_type": "markdown",
   "metadata": {},
   "source": [
    "#### 8. Define a function that checks who won a round. \n",
    "The function should return 0 if there is a tie, 1 if the computer wins and 2 if the player wins."
   ]
  },
  {
   "cell_type": "code",
   "execution_count": 8,
   "metadata": {},
   "outputs": [],
   "source": [
    "def winner(cpu, player):\n",
    "    if cpu == player:\n",
    "        return 0\n",
    "    elif (cpu==\"scissors\" and player==\"paper\") or (cpu==\"rock\" and player==\"scissors\") or (cpu==\"paper\" and player==\"rock\"):\n",
    "        return 1\n",
    "    elif (player==\"scissors\" and cpu==\"paper\") or (player==\"rock\" and cpu==\"scissors\") or (player==\"paper\" and cpu==\"rock\"):\n",
    "        return 2"
   ]
  },
  {
   "cell_type": "markdown",
   "metadata": {},
   "source": [
    "#### 9. Define a function that prints the choice of the computer, the choice of the player and a message that announces who won the current round. \n",
    "You should also use this function to update the variables that count the number of rounds that the computer and the player have won. The score of the winner increases by one point. If there is a tie, the score does not increase."
   ]
  },
  {
   "cell_type": "code",
   "execution_count": 9,
   "metadata": {},
   "outputs": [],
   "source": [
    "def announcement():\n",
    "    cpu_choice = cpu_gesture()\n",
    "    player_choice = player_gesture()\n",
    "    round_winner = winner(cpu_choice, player_choice)\n",
    "    if round_winner == 0:\n",
    "        print(\"The choice of the computer is: %s \\n The choice of the player is: %s \\n No winner, there is a tie!\" \n",
    "          % (cpu_choice, player_choice))\n",
    "    elif round_winner == 1:\n",
    "        #cpu_score +=1\n",
    "        print(\"The choice of the computer is: %s \\n The choice of the player is: %s \\n The winner of this round is: Computer\" \n",
    "          % (cpu_choice, player_choice))\n",
    "    elif round_winner == 2:\n",
    "        #player_score +=1\n",
    "        print(\"The choice of the computer is: %s \\n The choice of the player is: %s \\n The winner of this round is: Player\" \n",
    "          % (cpu_choice, player_choice))\n",
    "    return round_winner"
   ]
  },
  {
   "cell_type": "markdown",
   "metadata": {},
   "source": [
    "#### 10. Now it's time to code the execution of the game using the functions and variables you defined above. \n",
    "\n",
    "First, create a loop structure that repeats while no player reaches the minimum score necessary to win and the number of rounds is less than the maximum number of rounds to play in a game.  \n",
    "\n",
    "Inside the loop, use the functions and variables above to create the execution of a round: ask for the player's choice, generate the random choice of the computer, show the round results, update the scores, etc. "
   ]
  },
  {
   "cell_type": "code",
   "execution_count": 10,
   "metadata": {},
   "outputs": [
    {
     "name": "stdout",
     "output_type": "stream",
     "text": [
      "Round : 1\n",
      "Which is the gesture you to show: 'rock', 'paper' or 'scissors'\n",
      "rock\n",
      "The choice of the computer is: scissors \n",
      " The choice of the player is: rock \n",
      " The winner of this round is: Player\n",
      "Round : 2\n",
      "Which is the gesture you to show: 'rock', 'paper' or 'scissors'\n",
      "rock\n",
      "The choice of the computer is: paper \n",
      " The choice of the player is: rock \n",
      " The winner of this round is: Computer\n",
      "Round : 3\n",
      "Which is the gesture you to show: 'rock', 'paper' or 'scissors'\n",
      "rock\n",
      "The choice of the computer is: rock \n",
      " The choice of the player is: rock \n",
      " No winner, there is a tie!\n"
     ]
    }
   ],
   "source": [
    "number_round = 0\n",
    "#WHY number_round < n_rounds???\n",
    "while number_round < n_rounds and (cpu_score < rounds_to_win or player_score < rounds_to_win): \n",
    "    number_round +=1\n",
    "    print(\"Round :\", number_round)\n",
    "    champion =   announcement()\n",
    "    if champion == 1:\n",
    "        cpu_score +=1\n",
    "    elif champion == 2:\n",
    "        player_score +=1"
   ]
  },
  {
   "cell_type": "markdown",
   "metadata": {},
   "source": [
    "#### 11. Print the winner of the game based on who won more rounds.\n",
    "Remember that the game might be tied. "
   ]
  },
  {
   "cell_type": "code",
   "execution_count": 11,
   "metadata": {},
   "outputs": [
    {
     "name": "stdout",
     "output_type": "stream",
     "text": [
      "Tie!\n"
     ]
    }
   ],
   "source": [
    "if cpu_score == player_score:\n",
    "    print(\"Tie!\")\n",
    "elif cpu_score > player_score:\n",
    "    print(\"The winner is Computer!\")\n",
    "elif cpu_score < player_score:\n",
    "    print(\"The winner is Player!\")"
   ]
  },
  {
   "cell_type": "markdown",
   "metadata": {},
   "source": [
    "# Bonus: Rock, Paper, Scissors, Lizard & Spock\n",
    "![](images/rpsls.jpg)\n",
    "\n",
    "In this challenge, you need to improve the previous game by adding two new options. To know more about the rules of the improved version of rock, paper, scissors, check this [link](http://www.samkass.com/theories/RPSSL.html). \n",
    "\n",
    "In addition, you will also need to improve how the game interacts with the player: the number of rounds to play, which must be an odd number, will be requested to the user until a valid number is entered. Define a new function to make that request.\n",
    "\n",
    "**Hint**: Try to reuse the code that you already coded in the previous challenge. If your code is efficient, this bonus will only consist of simple modifications to the original game."
   ]
  },
  {
   "cell_type": "code",
   "execution_count": 17,
   "metadata": {},
   "outputs": [
    {
     "name": "stdout",
     "output_type": "stream",
     "text": [
      "Please enter the number of rounds to play : 1\n",
      "Tie!\n"
     ]
    }
   ],
   "source": [
    "import random\n",
    "gestures = [\"rock\", \"paper\", \"scissors\", \"lizard\", \"spock\"]\n",
    "cpu_score = 0\n",
    "player_score = 0\n",
    "\n",
    "def rounds_to_win():\n",
    "    n_rounds = int(input(\"Please enter the number of rounds to play : \"))\n",
    "    if n_rounds % 2 == 0:\n",
    "        n_rounds = int(input(\"Number of rounds must be an odd number\"))\n",
    "    rounds_to_win = round(n_rounds/2)\n",
    "    return n_rounds, rounds_to_win\n",
    "    \n",
    "def cpu_gesture():\n",
    "    return gestures[random.randint(0, 2)]\n",
    "\n",
    "def player_gesture():\n",
    "    value = input(\"Which is the gesture you want to show: 'rock', 'paper', 'scissors', 'lizard' or 'spock'\\n\")\n",
    "    while value not in gestures:\n",
    "        value = input(\"You are not allowed to choose another value. \\nWhich is the gesture you to show: 'rock', 'paper', 'scissors', 'lizard' or 'spock'\\n\")\n",
    "    return value\n",
    "\n",
    "def winner(cpu, player):\n",
    "    winner_table = {\"rock-paper\" : \"paper\",\n",
    "                    \"paper-rock\" : \"paper\",\n",
    "                   \"paper-scissors\" : \"scissors\",\n",
    "                    \"scissors-paper\" : \"scissors\",\n",
    "                   \"scissors-spock\" : \"spock\",\n",
    "                    \"spock-scissors\" : \"spock\",\n",
    "                   \"spock-lizard\" : \"lizard\",\n",
    "                    \"lizard-spock\" : \"lizard\",\n",
    "                   \"lizard-rock\" : \"rock\",\n",
    "                    \"rock-lizard\" : \"rock\",\n",
    "                   \"rock-scissors\" : \"rock\",\n",
    "                    \"scissors-rock\" : \"rock\",\n",
    "                   \"paper-spock\" : \"paper\",\n",
    "                    \"spock-paper\" : \"paper\",\n",
    "                   \"scissors-lizard\" : \"scissors\",\n",
    "                    \"lizard-scissors\" : \"scissors\",\n",
    "                   \"spock-rock\" : \"spock\",\n",
    "                    \"rock-spock\" : \"spock\",\n",
    "                   \"lizard-paper\" : \"paper\",\n",
    "                   \"paper-lizard\" : \"paper\"}\n",
    "    if cpu == player:\n",
    "        return 0   \n",
    "    else:\n",
    "        for key in winner_table:\n",
    "            win_element = winner_table[cpu + \"-\" + player]\n",
    "            if(cpu == win_element):\n",
    "                return 1\n",
    "            else:\n",
    "                return 2\n",
    "            \n",
    "def announcement():\n",
    "    cpu_choice = cpu_gesture()\n",
    "    player_choice = player_gesture()\n",
    "    round_winner = winner(cpu_choice, player_choice)\n",
    "    if round_winner == 0:\n",
    "        print(\"The choice of the computer is: %s \\n The choice of the player is: %s \\n No winner, there is a tie!\" \n",
    "          % (cpu_choice, player_choice))\n",
    "    elif round_winner == 1:\n",
    "        #cpu_score +=1\n",
    "        print(\"The choice of the computer is: %s \\n The choice of the player is: %s \\n The winner of this round is: Computer\" \n",
    "          % (cpu_choice, player_choice))\n",
    "    elif round_winner == 2:\n",
    "        #player_score +=1\n",
    "        print(\"The choice of the computer is: %s \\n The choice of the player is: %s \\n The winner of this round is: Player\" \n",
    "          % (cpu_choice, player_choice))\n",
    "    return round_winner\n",
    "\n",
    "########### Execution #############\n",
    "n_rounds, rounds_to_win = rounds_to_win()\n",
    "number_round = 0\n",
    "while number_round < n_rounds and (cpu_score < rounds_to_win or player_score < rounds_to_win): \n",
    "    number_round +=1\n",
    "    print(\"\\n\\n *****Round :\", number_round, \"*****\")\n",
    "    champion = announcement()\n",
    "    if champion == 1:\n",
    "        cpu_score +=1\n",
    "    elif champion == 2:\n",
    "        player_score +=1\n",
    "        \n",
    "if cpu_score == player_score:\n",
    "    print(\"Tie!\")\n",
    "elif cpu_score > player_score:\n",
    "    print(\"The winner is Computer!\")\n",
    "elif cpu_score < player_score:\n",
    "    print(\"The winner is Player!\")"
   ]
  },
  {
   "cell_type": "code",
   "execution_count": null,
   "metadata": {},
   "outputs": [],
   "source": []
  }
 ],
 "metadata": {
  "kernelspec": {
   "display_name": "Python 3",
   "language": "python",
   "name": "python3"
  },
  "language_info": {
   "codemirror_mode": {
    "name": "ipython",
    "version": 3
   },
   "file_extension": ".py",
   "mimetype": "text/x-python",
   "name": "python",
   "nbconvert_exporter": "python",
   "pygments_lexer": "ipython3",
   "version": "3.7.6"
  }
 },
 "nbformat": 4,
 "nbformat_minor": 2
}
